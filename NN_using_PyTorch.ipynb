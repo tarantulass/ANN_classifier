{
  "nbformat": 4,
  "nbformat_minor": 0,
  "metadata": {
    "colab": {
      "provenance": []
    },
    "kernelspec": {
      "name": "python3",
      "display_name": "Python 3"
    },
    "language_info": {
      "name": "python"
    }
  },
  "cells": [
    {
      "cell_type": "markdown",
      "metadata": {
        "id": "view-in-github"
      },
      "source": [
        "<a href=\"https://colab.research.google.com/github/deeksha-4/LS-Neural-Networks-NLP/blob/main/Week1/NN_using_PyTorch_(Graded).ipynb\" target=\"_parent\"><img src=\"https://colab.research.google.com/assets/colab-badge.svg\" alt=\"Open In Colab\"/></a>"
      ]
    },
    {
      "cell_type": "markdown",
      "source": [
        "# **PyTorch Implementation of Neural Networks**\n",
        "In this week's graded assignment, you will implement a neural network that will perform binary classification on a set of images (ie. is or is not).\n",
        "\n",
        "You are to only write/modify the code in between consecutive `# <START>` and `# <END>` comments. DO NOT modify other parts of the notebook, your assignments will not be graded otherwise.\n",
        "\n",
        "```python\n",
        "\"Don't modify any code here\"\n",
        "\n",
        "# <START>\n",
        "\"YOUR CODE GOES HERE!\"\n",
        "# <END>\n",
        "\n",
        "\"Don't modify any code here\"\n",
        "```\n",
        "## **Before you begin**\n",
        "Before you start with the assignment, you will have to upload the images that you will classify to your Google Drive.  \n",
        "You will be able to find the compressed folder named **\"pizza_vs_not\"** on both the GitHub repo and the Week 1 MS Teams channel.  \n",
        "Download the file, unzip it, and then upload it to your Drive.\n",
        "\n",
        "### **Make sure to upload to the same account that you are using on Colab, otherwise you won't be able to access the files**\n"
      ],
      "metadata": {
        "id": "pbwA7e12AVLe"
      }
    },
    {
      "cell_type": "markdown",
      "source": [
        "## **Mounting Google Drive**\n",
        "First, we need to import the dataset of images from your Google Drive. To do so, **run the below cell**. This will mount your Drive to the running Colab instance. Then, you will be able to access all your Google Drive data in this notebook."
      ],
      "metadata": {
        "id": "D0lIe1uahq_L"
      }
    },
    {
      "cell_type": "code",
      "source": [
        "from google.colab import drive\n",
        "drive.mount('/content/drive')"
      ],
      "metadata": {
        "id": "ObnNbRJPQrYK",
        "colab": {
          "base_uri": "https://localhost:8080/"
        },
        "outputId": "59e0fb2e-a2aa-4e27-9954-db88545aa59b"
      },
      "execution_count": 1,
      "outputs": [
        {
          "output_type": "stream",
          "name": "stdout",
          "text": [
            "Mounted at /content/drive\n"
          ]
        }
      ]
    },
    {
      "cell_type": "markdown",
      "source": [
        "## **Import the Libraries**\n",
        "\n",
        "Run the cell below to import all the necessary libraries for building the neural network using PyTorch.  \n",
        "You will primarily use the **`nn` module** of the **PyTorch** library for building the neural network."
      ],
      "metadata": {
        "id": "ElYLMOGFBq1r"
      }
    },
    {
      "cell_type": "code",
      "execution_count": 2,
      "metadata": {
        "id": "1ZVxJx87kAAN"
      },
      "outputs": [],
      "source": [
        "import os\n",
        "import numpy as np\n",
        "import torch\n",
        "import torch.nn as nn\n",
        "import matplotlib.pyplot as plt\n",
        "import matplotlib.image as mpimg\n",
        "%matplotlib inline"
      ]
    },
    {
      "cell_type": "markdown",
      "source": [
        "## **Importing the Dataset**\n",
        "\n",
        "We now need to import the dataset from the Google Drive. Below given is a function named `getdata`, which takes the path of the folder from which data is to be imported as its argument.\n",
        "\n",
        "You are required to give in the path of the folder in which the images of `pizza` and `not_pizza` are saved in your Google Drive. Locate the path using the Colab File Explorer (the file icon in the sidebar).\n",
        "\n",
        "The `getdata` function reads each image stored at the given path and converts and stores it as a PyTorch Tensor.\n",
        "\n",
        "_Note: This cell may take a while to finish running_\n",
        "<details>\n",
        "  <summary>Hint</summary>\n",
        "  The Google Drive was mounted to the location \"/content/drive\", containing the folder \"My Drive\", which corresponds to your actual Google Drive.\n",
        "</details>"
      ],
      "metadata": {
        "id": "GpoxEmvICmNr"
      }
    },
    {
      "cell_type": "code",
      "source": [
        "def getdata(path):\n",
        "  data = torch.tensor([])\n",
        "  file_list = os.listdir(path)\n",
        "  for file_name in file_list[:350]:\n",
        "    image_path = os.path.join(path, file_name)\n",
        "    image = mpimg.imread(image_path)\n",
        "    imageData = torch.from_numpy(image).long()\n",
        "    data = torch.cat((data, imageData.unsqueeze(0)), dim=0)\n",
        "  return data\n",
        "\n",
        "# <START>\n",
        "pizza_path = 'drive/MyDrive/pizza_vs_not/pizza'\n",
        "not_pizza_path = 'drive/MyDrive/pizza_vs_not/not_pizza'\n",
        "# <END>\n",
        "\n",
        "not_pizza_data = getdata(not_pizza_path)\n",
        "pizza_data = getdata(pizza_path)"
      ],
      "metadata": {
        "id": "QvO6vf9cqR5i"
      },
      "execution_count": 10,
      "outputs": []
    },
    {
      "cell_type": "markdown",
      "source": [
        "Using the next cell, you can preview the images you've just loaded"
      ],
      "metadata": {
        "id": "SIucUmRBGaZJ"
      }
    },
    {
      "cell_type": "code",
      "source": [
        "# Change values of index, data\n",
        "# <START>\n",
        "index = 222 # 0 to 349\n",
        "data = not_pizza_data # pizza_data (or) not_pizza_data\n",
        "# <END>\n",
        "\n",
        "plt.imshow(data[index].int())"
      ],
      "metadata": {
        "id": "7a_9TI1zEd7r",
        "colab": {
          "base_uri": "https://localhost:8080/",
          "height": 449
        },
        "outputId": "b8497e0f-b6d5-4982-ca53-06bc03d02f3f"
      },
      "execution_count": 11,
      "outputs": [
        {
          "output_type": "execute_result",
          "data": {
            "text/plain": [
              "<matplotlib.image.AxesImage at 0x7a4de77e2860>"
            ]
          },
          "metadata": {},
          "execution_count": 11
        },
        {
          "output_type": "display_data",
          "data": {
            "text/plain": [
              "<Figure size 640x480 with 1 Axes>"
            ],
            "image/png": "[encoded data removed]"
          },
          "metadata": {}
        }
      ]
    },
    {
      "cell_type": "markdown",
      "source": [
        "## **Preprocessing the dataset**\n",
        "\n",
        "Before we begin working with the neural network, we need to make sure our data (in this case, $64\\times64$ RGB images) is in a format that neural networks can work with.\n",
        "\n",
        "First, we create a `train_data` collection of images for training the neural network, and another collection `test_data` that will then be used to check the accuracy of the trained neural network. We do this by taking slices of the total data and concatenating them.  "
      ],
      "metadata": {
        "id": "uiKp-IkYDpB_"
      }
    },
    {
      "cell_type": "code",
      "source": [
        "train_data = torch.cat((pizza_data[:300], not_pizza_data[:200]), dim = 0)\n",
        "test_data = torch.cat((pizza_data[300:350], not_pizza_data[200:250]), dim = 0)\n",
        "print(train_data.shape)\n",
        "#dim = 0 is used so that train and test data are stored in 2 separate tensors\n",
        "#consider it as if dim = 0 rows space is unalterd and if dim = 1 columns space is unaltered"
      ],
      "metadata": {
        "id": "qHHnTe3Hq8cr",
        "colab": {
          "base_uri": "https://localhost:8080/"
        },
        "outputId": "725bb580-6147-49b9-c81d-a7c5a5971d7d"
      },
      "execution_count": 13,
      "outputs": [
        {
          "output_type": "stream",
          "name": "stdout",
          "text": [
            "torch.Size([500, 64, 64, 3])\n"
          ]
        }
      ]
    },
    {
      "cell_type": "markdown",
      "source": [
        "Each image is still stored as a $64\\times64\\times3$ tensor ie. a $64\\times64$ array of 3 numbers - the RGB values of the pixel, taking values between **0 to 255**.  \n",
        "You need to flatten the images in both datasets to make *reshaped* data, and normalise them to get the *final* data we will use to train and test the model.\n",
        "\n",
        "<details>\n",
        "  <summary>Hint</summary>\n",
        "  Use the reshape command to flatten the dataset and then normalise the flattened dataset (ie. make sure all the values lie between 0 and 1).\n",
        "</details>"
      ],
      "metadata": {
        "id": "gp5rsLIAEBKa"
      }
    },
    {
      "cell_type": "code",
      "source": [
        "# <START>\n",
        "\n",
        "reshaped_train_data = train_data.reshape([500,64*64*3])\n",
        "reshaped_test_data = test_data.reshape([100,64*64*3])\n",
        "\n",
        "final_train_data = reshaped_train_data/255\n",
        "final_test_data = reshaped_test_data/255\n",
        "\n",
        "# <END>\n",
        "\n",
        "print(final_train_data.shape, final_test_data.shape)"
      ],
      "metadata": {
        "id": "XxdYwPTe3dMr",
        "colab": {
          "base_uri": "https://localhost:8080/"
        },
        "outputId": "5149f2c9-7afe-43f9-b936-0d80539f5c8f"
      },
      "execution_count": 15,
      "outputs": [
        {
          "output_type": "stream",
          "name": "stdout",
          "text": [
            "torch.Size([500, 12288]) torch.Size([100, 12288])\n"
          ]
        }
      ]
    },
    {
      "cell_type": "markdown",
      "source": [
        "Now that you have made two datasets, you need to make their corresponding `labels` Tensors, which store the true output for each image (whether or not it is a pizza).\n",
        "\n",
        "In the `labels` Tensor, use **`1`** for images that belong to `pizza` and **`0`** for `not_pizza`. (Try to use the concatenate function instead of simply using *for* loops for generating the `labels` Tensor !!)\n",
        "\n",
        "**Remember** to ensure that both `train_labels` and `test_labels` are 2D tensors of appropriate dimensions. Otherwise, it can cause issues ahead."
      ],
      "metadata": {
        "id": "CN9sZzmAEhed"
      }
    },
    {
      "cell_type": "code",
      "source": [
        "# <START>\n",
        "\n",
        "train_labels = torch.cat((torch.ones(300,1),torch.zeros(200,1)),0)\n",
        "\n",
        "test_labels = torch.cat((torch.ones(50,1),torch.zeros(50,1)),0)\n",
        "\n",
        "# <END>\n",
        "\n",
        "print(train_labels.shape, test_labels.shape)"
      ],
      "metadata": {
        "id": "AB9ngSqaruoK",
        "colab": {
          "base_uri": "https://localhost:8080/"
        },
        "outputId": "3546c1a1-c448-4ff8-8280-f23cce82c015"
      },
      "execution_count": 16,
      "outputs": [
        {
          "output_type": "stream",
          "name": "stdout",
          "text": [
            "torch.Size([500, 1]) torch.Size([100, 1])\n"
          ]
        }
      ]
    },
    {
      "cell_type": "markdown",
      "source": [
        "##**Building the Neural Network**\n",
        "\n",
        "Now, we will start making the actual neural network.\n",
        "\n",
        "First, initialise the hyperparameters of the neural network.  \n",
        "Here, we are going to make a 3 layer neural network (i.e., 1 input layer, 2 hidden layers and 1 output layer). The first hidden layer will have 10 nodes, while the second will have 12.   \n",
        "Enter the number of input parameters, number of nodes of each hidden layer and the number of output parameters."
      ],
      "metadata": {
        "id": "tfcBVaGoFVH-"
      }
    },
    {
      "cell_type": "code",
      "source": [
        "# <START>\n",
        "\n",
        "D_in = 64*64*3\n",
        "H1 = 10\n",
        "H2 = 12\n",
        "D_out = 1\n",
        "#since it is pizza or not pizza hence we can use only one neuron for this purpose as it ensures both are independent\n",
        "\n",
        "# <END>"
      ],
      "metadata": {
        "id": "Nzoq4S8aqY88"
      },
      "execution_count": 17,
      "outputs": []
    },
    {
      "cell_type": "markdown",
      "source": [
        "Now you will make the actual model. The Model includes the use of `Linear` function at each layer, alongside non-linear activation functions.\n",
        "\n",
        "We are going to use `ReLU` functions as activation functions for the input and the first hidden layer and `Sigmoid` function for the final output, as we want an output between 0 and 1.\n",
        "\n",
        "(Hint: `Linear`, `ReLU` and `Sigmoid` functions are a part of the `nn` module of the **PyTorch** library)"
      ],
      "metadata": {
        "id": "k99hJnXbGAwS"
      }
    },
    {
      "cell_type": "code",
      "source": [
        "\n",
        "model = torch.nn.Sequential(\n",
        "    # Do not hard-code any values, use the variables from the previous cell\n",
        "    # <START>\n",
        "    nn.Linear(D_in,H1),\n",
        "    nn.ReLU(),\n",
        "    nn.Linear(H1,H2),\n",
        "    nn.ReLU(),\n",
        "    nn.Linear(H2,D_out),\n",
        "    nn.Sigmoid()\n",
        "    # <END>\n",
        "\n",
        ")\n"
      ],
      "metadata": {
        "id": "YFA7NWqTqdlu"
      },
      "execution_count": 20,
      "outputs": []
    },
    {
      "cell_type": "code",
      "source": [
        "model(final_train_data[0]) #To check if the model works\n",
        "#computation graph and has a gradient function (grad_fn) assigned to it, which tracks operations performed on tensors to facilitate automatic differentiation."
      ],
      "metadata": {
        "id": "nkoOyUiYzTGA",
        "colab": {
          "base_uri": "https://localhost:8080/"
        },
        "outputId": "0439fa95-d706-4bf8-ed3b-53c9accab934"
      },
      "execution_count": 22,
      "outputs": [
        {
          "output_type": "execute_result",
          "data": {
            "text/plain": [
              "tensor([0.5218], grad_fn=<SigmoidBackward0>)"
            ]
          },
          "metadata": {},
          "execution_count": 22
        }
      ]
    },
    {
      "cell_type": "markdown",
      "source": [
        "After making the model, we defined the `loss_fn` , i.e., the loss function as the Binary Cross Entropy Loss.\n",
        "\n",
        "Here, you will implement gradient descent.\n",
        "\n",
        "The `learning_rate` is the step size which the neural network takes when it updates the parameters of the network. (Try to explore various values of step size. Values similar to 0.005 are usually suitable). Also play around with the number of `iterations` the gradient descent algorithm needs to take.\n",
        "\n",
        "**Follow the steps given as per the comments.**\n",
        "\n",
        "*Note: When you run the code, it could take about 5 minutes for the network to finish training.*"
      ],
      "metadata": {
        "id": "pI5qXU5fHPG2"
      }
    },
    {
      "cell_type": "code",
      "source": [
        "loss_fn = nn.BCELoss()\n",
        "\n",
        "# <START>\n",
        "\n",
        "learning_rate = 0.005\n",
        "iterations = 100\n",
        "\n",
        "for t in range(iterations):\n",
        "  for i in range(500):\n",
        "    # call the model on the dataset\n",
        "    y_pred = model(final_train_data[i])\n",
        "\n",
        "    #calculate the loss\n",
        "    loss =  loss_fn(y_pred,train_labels[i])\n",
        "\n",
        "\n",
        "    if (t%1000)%100 == 0:\n",
        "        print(loss)\n",
        "\n",
        "    # calculate the gradients\n",
        "    loss.backward()\n",
        "\n",
        "    # update the values of the parameters\n",
        "    with torch.no_grad():\n",
        "        for param in model.parameters():\n",
        "            param -= learning_rate * param.grad\n",
        "\n",
        "    # reset the gradients\n",
        "    model.zero_grad()\n",
        "\n",
        "# <END>\n",
        "\n",
        "torch.save(model, 'model_best.pt')"
      ],
      "metadata": {
        "id": "WrcyQE-nqgUL",
        "colab": {
          "base_uri": "https://localhost:8080/"
        },
        "outputId": "425ef481-22d3-4c47-9083-58b499fc7faf"
      },
      "execution_count": 37,
      "outputs": [
        {
          "output_type": "stream",
          "name": "stdout",
          "text": [
            "tensor(0., grad_fn=<BinaryCrossEntropyBackward0>)\n",
            "tensor(0., grad_fn=<BinaryCrossEntropyBackward0>)\n",
            "tensor(0., grad_fn=<BinaryCrossEntropyBackward0>)\n",
            "tensor(0., grad_fn=<BinaryCrossEntropyBackward0>)\n",
            "tensor(0., grad_fn=<BinaryCrossEntropyBackward0>)\n",
            "tensor(0., grad_fn=<BinaryCrossEntropyBackward0>)\n",
            "tensor(0., grad_fn=<BinaryCrossEntropyBackward0>)\n",
            "tensor(0., grad_fn=<BinaryCrossEntropyBackward0>)\n",
            "tensor(0., grad_fn=<BinaryCrossEntropyBackward0>)\n",
            "tensor(0., grad_fn=<BinaryCrossEntropyBackward0>)\n",
            "tensor(0., grad_fn=<BinaryCrossEntropyBackward0>)\n",
            "tensor(0., grad_fn=<BinaryCrossEntropyBackward0>)\n",
            "tensor(0., grad_fn=<BinaryCrossEntropyBackward0>)\n",
            "tensor(0., grad_fn=<BinaryCrossEntropyBackward0>)\n",
            "tensor(0., grad_fn=<BinaryCrossEntropyBackward0>)\n",
            "tensor(0., grad_fn=<BinaryCrossEntropyBackward0>)\n",
            "tensor(0., grad_fn=<BinaryCrossEntropyBackward0>)\n",
            "tensor(0., grad_fn=<BinaryCrossEntropyBackward0>)\n",
            "tensor(0., grad_fn=<BinaryCrossEntropyBackward0>)\n",
            "tensor(0., grad_fn=<BinaryCrossEntropyBackward0>)\n",
            "tensor(0., grad_fn=<BinaryCrossEntropyBackward0>)\n",
            "tensor(0., grad_fn=<BinaryCrossEntropyBackward0>)\n",
            "tensor(0., grad_fn=<BinaryCrossEntropyBackward0>)\n",
            "tensor(0., grad_fn=<BinaryCrossEntropyBackward0>)\n",
            "tensor(0., grad_fn=<BinaryCrossEntropyBackward0>)\n",
            "tensor(0., grad_fn=<BinaryCrossEntropyBackward0>)\n",
            "tensor(0., grad_fn=<BinaryCrossEntropyBackward0>)\n",
            "tensor(0., grad_fn=<BinaryCrossEntropyBackward0>)\n",
            "tensor(0., grad_fn=<BinaryCrossEntropyBackward0>)\n",
            "tensor(0., grad_fn=<BinaryCrossEntropyBackward0>)\n",
            "tensor(0., grad_fn=<BinaryCrossEntropyBackward0>)\n",
            "tensor(0., grad_fn=<BinaryCrossEntropyBackward0>)\n",
            "tensor(0., grad_fn=<BinaryCrossEntropyBackward0>)\n",
            "tensor(0., grad_fn=<BinaryCrossEntropyBackward0>)\n",
            "tensor(0., grad_fn=<BinaryCrossEntropyBackward0>)\n",
            "tensor(0., grad_fn=<BinaryCrossEntropyBackward0>)\n",
            "tensor(0., grad_fn=<BinaryCrossEntropyBackward0>)\n",
            "tensor(0., grad_fn=<BinaryCrossEntropyBackward0>)\n",
            "tensor(0., grad_fn=<BinaryCrossEntropyBackward0>)\n",
            "tensor(0., grad_fn=<BinaryCrossEntropyBackward0>)\n",
            "tensor(0., grad_fn=<BinaryCrossEntropyBackward0>)\n",
            "tensor(0., grad_fn=<BinaryCrossEntropyBackward0>)\n",
            "tensor(0., grad_fn=<BinaryCrossEntropyBackward0>)\n",
            "tensor(0., grad_fn=<BinaryCrossEntropyBackward0>)\n",
            "tensor(0., grad_fn=<BinaryCrossEntropyBackward0>)\n",
            "tensor(0., grad_fn=<BinaryCrossEntropyBackward0>)\n",
            "tensor(0., grad_fn=<BinaryCrossEntropyBackward0>)\n",
            "tensor(0., grad_fn=<BinaryCrossEntropyBackward0>)\n",
            "tensor(0., grad_fn=<BinaryCrossEntropyBackward0>)\n",
            "tensor(0., grad_fn=<BinaryCrossEntropyBackward0>)\n",
            "tensor(0., grad_fn=<BinaryCrossEntropyBackward0>)\n",
            "tensor(0., grad_fn=<BinaryCrossEntropyBackward0>)\n",
            "tensor(0., grad_fn=<BinaryCrossEntropyBackward0>)\n",
            "tensor(0., grad_fn=<BinaryCrossEntropyBackward0>)\n",
            "tensor(0., grad_fn=<BinaryCrossEntropyBackward0>)\n",
            "tensor(0., grad_fn=<BinaryCrossEntropyBackward0>)\n",
            "tensor(0., grad_fn=<BinaryCrossEntropyBackward0>)\n",
            "tensor(0., grad_fn=<BinaryCrossEntropyBackward0>)\n",
            "tensor(0., grad_fn=<BinaryCrossEntropyBackward0>)\n",
            "tensor(0., grad_fn=<BinaryCrossEntropyBackward0>)\n",
            "tensor(0., grad_fn=<BinaryCrossEntropyBackward0>)\n",
            "tensor(0., grad_fn=<BinaryCrossEntropyBackward0>)\n",
            "tensor(0., grad_fn=<BinaryCrossEntropyBackward0>)\n",
            "tensor(0., grad_fn=<BinaryCrossEntropyBackward0>)\n",
            "tensor(0., grad_fn=<BinaryCrossEntropyBackward0>)\n",
            "tensor(0., grad_fn=<BinaryCrossEntropyBackward0>)\n",
            "tensor(0., grad_fn=<BinaryCrossEntropyBackward0>)\n",
            "tensor(0., grad_fn=<BinaryCrossEntropyBackward0>)\n",
            "tensor(0., grad_fn=<BinaryCrossEntropyBackward0>)\n",
            "tensor(0., grad_fn=<BinaryCrossEntropyBackward0>)\n",
            "tensor(0., grad_fn=<BinaryCrossEntropyBackward0>)\n",
            "tensor(0., grad_fn=<BinaryCrossEntropyBackward0>)\n",
            "tensor(0., grad_fn=<BinaryCrossEntropyBackward0>)\n",
            "tensor(0., grad_fn=<BinaryCrossEntropyBackward0>)\n",
            "tensor(0., grad_fn=<BinaryCrossEntropyBackward0>)\n",
            "tensor(0., grad_fn=<BinaryCrossEntropyBackward0>)\n",
            "tensor(0., grad_fn=<BinaryCrossEntropyBackward0>)\n",
            "tensor(0., grad_fn=<BinaryCrossEntropyBackward0>)\n",
            "tensor(0., grad_fn=<BinaryCrossEntropyBackward0>)\n",
            "tensor(0., grad_fn=<BinaryCrossEntropyBackward0>)\n",
            "tensor(0., grad_fn=<BinaryCrossEntropyBackward0>)\n",
            "tensor(0., grad_fn=<BinaryCrossEntropyBackward0>)\n",
            "tensor(0., grad_fn=<BinaryCrossEntropyBackward0>)\n",
            "tensor(0., grad_fn=<BinaryCrossEntropyBackward0>)\n",
            "tensor(0., grad_fn=<BinaryCrossEntropyBackward0>)\n",
            "tensor(0., grad_fn=<BinaryCrossEntropyBackward0>)\n",
            "tensor(0., grad_fn=<BinaryCrossEntropyBackward0>)\n",
            "tensor(0., grad_fn=<BinaryCrossEntropyBackward0>)\n",
            "tensor(0., grad_fn=<BinaryCrossEntropyBackward0>)\n",
            "tensor(0., grad_fn=<BinaryCrossEntropyBackward0>)\n",
            "tensor(0., grad_fn=<BinaryCrossEntropyBackward0>)\n",
            "tensor(0., grad_fn=<BinaryCrossEntropyBackward0>)\n",
            "tensor(0., grad_fn=<BinaryCrossEntropyBackward0>)\n",
            "tensor(0., grad_fn=<BinaryCrossEntropyBackward0>)\n",
            "tensor(0., grad_fn=<BinaryCrossEntropyBackward0>)\n",
            "tensor(0., grad_fn=<BinaryCrossEntropyBackward0>)\n",
            "tensor(0., grad_fn=<BinaryCrossEntropyBackward0>)\n",
            "tensor(0., grad_fn=<BinaryCrossEntropyBackward0>)\n",
            "tensor(0., grad_fn=<BinaryCrossEntropyBackward0>)\n",
            "tensor(0., grad_fn=<BinaryCrossEntropyBackward0>)\n",
            "tensor(0., grad_fn=<BinaryCrossEntropyBackward0>)\n",
            "tensor(0., grad_fn=<BinaryCrossEntropyBackward0>)\n",
            "tensor(0., grad_fn=<BinaryCrossEntropyBackward0>)\n",
            "tensor(0., grad_fn=<BinaryCrossEntropyBackward0>)\n",
            "tensor(0., grad_fn=<BinaryCrossEntropyBackward0>)\n",
            "tensor(0., grad_fn=<BinaryCrossEntropyBackward0>)\n",
            "tensor(0., grad_fn=<BinaryCrossEntropyBackward0>)\n",
            "tensor(0., grad_fn=<BinaryCrossEntropyBackward0>)\n",
            "tensor(0., grad_fn=<BinaryCrossEntropyBackward0>)\n",
            "tensor(0., grad_fn=<BinaryCrossEntropyBackward0>)\n",
            "tensor(0., grad_fn=<BinaryCrossEntropyBackward0>)\n",
            "tensor(0., grad_fn=<BinaryCrossEntropyBackward0>)\n",
            "tensor(0., grad_fn=<BinaryCrossEntropyBackward0>)\n",
            "tensor(0., grad_fn=<BinaryCrossEntropyBackward0>)\n",
            "tensor(0., grad_fn=<BinaryCrossEntropyBackward0>)\n",
            "tensor(0., grad_fn=<BinaryCrossEntropyBackward0>)\n",
            "tensor(0., grad_fn=<BinaryCrossEntropyBackward0>)\n",
            "tensor(0., grad_fn=<BinaryCrossEntropyBackward0>)\n",
            "tensor(0., grad_fn=<BinaryCrossEntropyBackward0>)\n",
            "tensor(0., grad_fn=<BinaryCrossEntropyBackward0>)\n",
            "tensor(0., grad_fn=<BinaryCrossEntropyBackward0>)\n",
            "tensor(0., grad_fn=<BinaryCrossEntropyBackward0>)\n",
            "tensor(0., grad_fn=<BinaryCrossEntropyBackward0>)\n",
            "tensor(0., grad_fn=<BinaryCrossEntropyBackward0>)\n",
            "tensor(0., grad_fn=<BinaryCrossEntropyBackward0>)\n",
            "tensor(0., grad_fn=<BinaryCrossEntropyBackward0>)\n",
            "tensor(0., grad_fn=<BinaryCrossEntropyBackward0>)\n",
            "tensor(0., grad_fn=<BinaryCrossEntropyBackward0>)\n",
            "tensor(0., grad_fn=<BinaryCrossEntropyBackward0>)\n",
            "tensor(0., grad_fn=<BinaryCrossEntropyBackward0>)\n",
            "tensor(0., grad_fn=<BinaryCrossEntropyBackward0>)\n",
            "tensor(0., grad_fn=<BinaryCrossEntropyBackward0>)\n",
            "tensor(0., grad_fn=<BinaryCrossEntropyBackward0>)\n",
            "tensor(0., grad_fn=<BinaryCrossEntropyBackward0>)\n",
            "tensor(0., grad_fn=<BinaryCrossEntropyBackward0>)\n",
            "tensor(0., grad_fn=<BinaryCrossEntropyBackward0>)\n",
            "tensor(0., grad_fn=<BinaryCrossEntropyBackward0>)\n",
            "tensor(0., grad_fn=<BinaryCrossEntropyBackward0>)\n",
            "tensor(0., grad_fn=<BinaryCrossEntropyBackward0>)\n",
            "tensor(0., grad_fn=<BinaryCrossEntropyBackward0>)\n",
            "tensor(0., grad_fn=<BinaryCrossEntropyBackward0>)\n",
            "tensor(0., grad_fn=<BinaryCrossEntropyBackward0>)\n",
            "tensor(0., grad_fn=<BinaryCrossEntropyBackward0>)\n",
            "tensor(0., grad_fn=<BinaryCrossEntropyBackward0>)\n",
            "tensor(0., grad_fn=<BinaryCrossEntropyBackward0>)\n",
            "tensor(0., grad_fn=<BinaryCrossEntropyBackward0>)\n",
            "tensor(0., grad_fn=<BinaryCrossEntropyBackward0>)\n",
            "tensor(0., grad_fn=<BinaryCrossEntropyBackward0>)\n",
            "tensor(0., grad_fn=<BinaryCrossEntropyBackward0>)\n",
            "tensor(0., grad_fn=<BinaryCrossEntropyBackward0>)\n",
            "tensor(0., grad_fn=<BinaryCrossEntropyBackward0>)\n",
            "tensor(0., grad_fn=<BinaryCrossEntropyBackward0>)\n",
            "tensor(2.2292e-05, grad_fn=<BinaryCrossEntropyBackward0>)\n",
            "tensor(0., grad_fn=<BinaryCrossEntropyBackward0>)\n",
            "tensor(0., grad_fn=<BinaryCrossEntropyBackward0>)\n",
            "tensor(0., grad_fn=<BinaryCrossEntropyBackward0>)\n",
            "tensor(0., grad_fn=<BinaryCrossEntropyBackward0>)\n",
            "tensor(0., grad_fn=<BinaryCrossEntropyBackward0>)\n",
            "tensor(0., grad_fn=<BinaryCrossEntropyBackward0>)\n",
            "tensor(0., grad_fn=<BinaryCrossEntropyBackward0>)\n",
            "tensor(0., grad_fn=<BinaryCrossEntropyBackward0>)\n",
            "tensor(0., grad_fn=<BinaryCrossEntropyBackward0>)\n",
            "tensor(0., grad_fn=<BinaryCrossEntropyBackward0>)\n",
            "tensor(0., grad_fn=<BinaryCrossEntropyBackward0>)\n",
            "tensor(0., grad_fn=<BinaryCrossEntropyBackward0>)\n",
            "tensor(0., grad_fn=<BinaryCrossEntropyBackward0>)\n",
            "tensor(0., grad_fn=<BinaryCrossEntropyBackward0>)\n",
            "tensor(0., grad_fn=<BinaryCrossEntropyBackward0>)\n",
            "tensor(0., grad_fn=<BinaryCrossEntropyBackward0>)\n",
            "tensor(0., grad_fn=<BinaryCrossEntropyBackward0>)\n",
            "tensor(0., grad_fn=<BinaryCrossEntropyBackward0>)\n",
            "tensor(0., grad_fn=<BinaryCrossEntropyBackward0>)\n",
            "tensor(0., grad_fn=<BinaryCrossEntropyBackward0>)\n",
            "tensor(0., grad_fn=<BinaryCrossEntropyBackward0>)\n",
            "tensor(0., grad_fn=<BinaryCrossEntropyBackward0>)\n",
            "tensor(0., grad_fn=<BinaryCrossEntropyBackward0>)\n",
            "tensor(0., grad_fn=<BinaryCrossEntropyBackward0>)\n",
            "tensor(0., grad_fn=<BinaryCrossEntropyBackward0>)\n",
            "tensor(0., grad_fn=<BinaryCrossEntropyBackward0>)\n",
            "tensor(0., grad_fn=<BinaryCrossEntropyBackward0>)\n",
            "tensor(0., grad_fn=<BinaryCrossEntropyBackward0>)\n",
            "tensor(0., grad_fn=<BinaryCrossEntropyBackward0>)\n",
            "tensor(0., grad_fn=<BinaryCrossEntropyBackward0>)\n",
            "tensor(0., grad_fn=<BinaryCrossEntropyBackward0>)\n",
            "tensor(0., grad_fn=<BinaryCrossEntropyBackward0>)\n",
            "tensor(0., grad_fn=<BinaryCrossEntropyBackward0>)\n",
            "tensor(0., grad_fn=<BinaryCrossEntropyBackward0>)\n",
            "tensor(0., grad_fn=<BinaryCrossEntropyBackward0>)\n",
            "tensor(0., grad_fn=<BinaryCrossEntropyBackward0>)\n",
            "tensor(0., grad_fn=<BinaryCrossEntropyBackward0>)\n",
            "tensor(0., grad_fn=<BinaryCrossEntropyBackward0>)\n",
            "tensor(0., grad_fn=<BinaryCrossEntropyBackward0>)\n",
            "tensor(3.0994e-06, grad_fn=<BinaryCrossEntropyBackward0>)\n",
            "tensor(0., grad_fn=<BinaryCrossEntropyBackward0>)\n",
            "tensor(0., grad_fn=<BinaryCrossEntropyBackward0>)\n",
            "tensor(0., grad_fn=<BinaryCrossEntropyBackward0>)\n",
            "tensor(0., grad_fn=<BinaryCrossEntropyBackward0>)\n",
            "tensor(0., grad_fn=<BinaryCrossEntropyBackward0>)\n",
            "tensor(0., grad_fn=<BinaryCrossEntropyBackward0>)\n",
            "tensor(0., grad_fn=<BinaryCrossEntropyBackward0>)\n",
            "tensor(0., grad_fn=<BinaryCrossEntropyBackward0>)\n",
            "tensor(0., grad_fn=<BinaryCrossEntropyBackward0>)\n",
            "tensor(0., grad_fn=<BinaryCrossEntropyBackward0>)\n",
            "tensor(0., grad_fn=<BinaryCrossEntropyBackward0>)\n",
            "tensor(0., grad_fn=<BinaryCrossEntropyBackward0>)\n",
            "tensor(0., grad_fn=<BinaryCrossEntropyBackward0>)\n",
            "tensor(0., grad_fn=<BinaryCrossEntropyBackward0>)\n",
            "tensor(3.5763e-07, grad_fn=<BinaryCrossEntropyBackward0>)\n",
            "tensor(3.0994e-06, grad_fn=<BinaryCrossEntropyBackward0>)\n",
            "tensor(0., grad_fn=<BinaryCrossEntropyBackward0>)\n",
            "tensor(0., grad_fn=<BinaryCrossEntropyBackward0>)\n",
            "tensor(0., grad_fn=<BinaryCrossEntropyBackward0>)\n",
            "tensor(0., grad_fn=<BinaryCrossEntropyBackward0>)\n",
            "tensor(0., grad_fn=<BinaryCrossEntropyBackward0>)\n",
            "tensor(0., grad_fn=<BinaryCrossEntropyBackward0>)\n",
            "tensor(0., grad_fn=<BinaryCrossEntropyBackward0>)\n",
            "tensor(5.9605e-07, grad_fn=<BinaryCrossEntropyBackward0>)\n",
            "tensor(0., grad_fn=<BinaryCrossEntropyBackward0>)\n",
            "tensor(2.0266e-06, grad_fn=<BinaryCrossEntropyBackward0>)\n",
            "tensor(0., grad_fn=<BinaryCrossEntropyBackward0>)\n",
            "tensor(0., grad_fn=<BinaryCrossEntropyBackward0>)\n",
            "tensor(0., grad_fn=<BinaryCrossEntropyBackward0>)\n",
            "tensor(0., grad_fn=<BinaryCrossEntropyBackward0>)\n",
            "tensor(7.1526e-07, grad_fn=<BinaryCrossEntropyBackward0>)\n",
            "tensor(2.6226e-06, grad_fn=<BinaryCrossEntropyBackward0>)\n",
            "tensor(0., grad_fn=<BinaryCrossEntropyBackward0>)\n",
            "tensor(0., grad_fn=<BinaryCrossEntropyBackward0>)\n",
            "tensor(0., grad_fn=<BinaryCrossEntropyBackward0>)\n",
            "tensor(3.2187e-06, grad_fn=<BinaryCrossEntropyBackward0>)\n",
            "tensor(0., grad_fn=<BinaryCrossEntropyBackward0>)\n",
            "tensor(1.3113e-06, grad_fn=<BinaryCrossEntropyBackward0>)\n",
            "tensor(5.9605e-07, grad_fn=<BinaryCrossEntropyBackward0>)\n",
            "tensor(0., grad_fn=<BinaryCrossEntropyBackward0>)\n",
            "tensor(0., grad_fn=<BinaryCrossEntropyBackward0>)\n",
            "tensor(0., grad_fn=<BinaryCrossEntropyBackward0>)\n",
            "tensor(0., grad_fn=<BinaryCrossEntropyBackward0>)\n",
            "tensor(0., grad_fn=<BinaryCrossEntropyBackward0>)\n",
            "tensor(0., grad_fn=<BinaryCrossEntropyBackward0>)\n",
            "tensor(0., grad_fn=<BinaryCrossEntropyBackward0>)\n",
            "tensor(0., grad_fn=<BinaryCrossEntropyBackward0>)\n",
            "tensor(0., grad_fn=<BinaryCrossEntropyBackward0>)\n",
            "tensor(0., grad_fn=<BinaryCrossEntropyBackward0>)\n",
            "tensor(0., grad_fn=<BinaryCrossEntropyBackward0>)\n",
            "tensor(0., grad_fn=<BinaryCrossEntropyBackward0>)\n",
            "tensor(0., grad_fn=<BinaryCrossEntropyBackward0>)\n",
            "tensor(0., grad_fn=<BinaryCrossEntropyBackward0>)\n",
            "tensor(4.7684e-07, grad_fn=<BinaryCrossEntropyBackward0>)\n",
            "tensor(0., grad_fn=<BinaryCrossEntropyBackward0>)\n",
            "tensor(0., grad_fn=<BinaryCrossEntropyBackward0>)\n",
            "tensor(0., grad_fn=<BinaryCrossEntropyBackward0>)\n",
            "tensor(0., grad_fn=<BinaryCrossEntropyBackward0>)\n",
            "tensor(0., grad_fn=<BinaryCrossEntropyBackward0>)\n",
            "tensor(0., grad_fn=<BinaryCrossEntropyBackward0>)\n",
            "tensor(0., grad_fn=<BinaryCrossEntropyBackward0>)\n",
            "tensor(0., grad_fn=<BinaryCrossEntropyBackward0>)\n",
            "tensor(0., grad_fn=<BinaryCrossEntropyBackward0>)\n",
            "tensor(8.7023e-06, grad_fn=<BinaryCrossEntropyBackward0>)\n",
            "tensor(0., grad_fn=<BinaryCrossEntropyBackward0>)\n",
            "tensor(0., grad_fn=<BinaryCrossEntropyBackward0>)\n",
            "tensor(0., grad_fn=<BinaryCrossEntropyBackward0>)\n",
            "tensor(0., grad_fn=<BinaryCrossEntropyBackward0>)\n",
            "tensor(3.5763e-07, grad_fn=<BinaryCrossEntropyBackward0>)\n",
            "tensor(0., grad_fn=<BinaryCrossEntropyBackward0>)\n",
            "tensor(0., grad_fn=<BinaryCrossEntropyBackward0>)\n",
            "tensor(0., grad_fn=<BinaryCrossEntropyBackward0>)\n",
            "tensor(0., grad_fn=<BinaryCrossEntropyBackward0>)\n",
            "tensor(0., grad_fn=<BinaryCrossEntropyBackward0>)\n",
            "tensor(0., grad_fn=<BinaryCrossEntropyBackward0>)\n",
            "tensor(0., grad_fn=<BinaryCrossEntropyBackward0>)\n",
            "tensor(0., grad_fn=<BinaryCrossEntropyBackward0>)\n",
            "tensor(6.1989e-06, grad_fn=<BinaryCrossEntropyBackward0>)\n",
            "tensor(0., grad_fn=<BinaryCrossEntropyBackward0>)\n",
            "tensor(0., grad_fn=<BinaryCrossEntropyBackward0>)\n",
            "tensor(0., grad_fn=<BinaryCrossEntropyBackward0>)\n",
            "tensor(0., grad_fn=<BinaryCrossEntropyBackward0>)\n",
            "tensor(0., grad_fn=<BinaryCrossEntropyBackward0>)\n",
            "tensor(0., grad_fn=<BinaryCrossEntropyBackward0>)\n",
            "tensor(0., grad_fn=<BinaryCrossEntropyBackward0>)\n",
            "tensor(0., grad_fn=<BinaryCrossEntropyBackward0>)\n",
            "tensor(0., grad_fn=<BinaryCrossEntropyBackward0>)\n",
            "tensor(0., grad_fn=<BinaryCrossEntropyBackward0>)\n",
            "tensor(0., grad_fn=<BinaryCrossEntropyBackward0>)\n",
            "tensor(7.5102e-06, grad_fn=<BinaryCrossEntropyBackward0>)\n",
            "tensor(0., grad_fn=<BinaryCrossEntropyBackward0>)\n",
            "tensor(0., grad_fn=<BinaryCrossEntropyBackward0>)\n",
            "tensor(0., grad_fn=<BinaryCrossEntropyBackward0>)\n",
            "tensor(0., grad_fn=<BinaryCrossEntropyBackward0>)\n",
            "tensor(0., grad_fn=<BinaryCrossEntropyBackward0>)\n",
            "tensor(1.3113e-06, grad_fn=<BinaryCrossEntropyBackward0>)\n",
            "tensor(0., grad_fn=<BinaryCrossEntropyBackward0>)\n",
            "tensor(4.2915e-06, grad_fn=<BinaryCrossEntropyBackward0>)\n",
            "tensor(0., grad_fn=<BinaryCrossEntropyBackward0>)\n",
            "tensor(0., grad_fn=<BinaryCrossEntropyBackward0>)\n",
            "tensor(0., grad_fn=<BinaryCrossEntropyBackward0>)\n",
            "tensor(0., grad_fn=<BinaryCrossEntropyBackward0>)\n",
            "tensor(0., grad_fn=<BinaryCrossEntropyBackward0>)\n",
            "tensor(0., grad_fn=<BinaryCrossEntropyBackward0>)\n",
            "tensor(0., grad_fn=<BinaryCrossEntropyBackward0>)\n",
            "tensor(0., grad_fn=<BinaryCrossEntropyBackward0>)\n",
            "tensor(0., grad_fn=<BinaryCrossEntropyBackward0>)\n",
            "tensor(5.7547e-05, grad_fn=<BinaryCrossEntropyBackward0>)\n",
            "tensor(3.4292e-10, grad_fn=<BinaryCrossEntropyBackward0>)\n",
            "tensor(1.1053e-08, grad_fn=<BinaryCrossEntropyBackward0>)\n",
            "tensor(6.4396e-16, grad_fn=<BinaryCrossEntropyBackward0>)\n",
            "tensor(6.0430e-23, grad_fn=<BinaryCrossEntropyBackward0>)\n",
            "tensor(2.7533e-08, grad_fn=<BinaryCrossEntropyBackward0>)\n",
            "tensor(1.0004e-19, grad_fn=<BinaryCrossEntropyBackward0>)\n",
            "tensor(2.2068e-09, grad_fn=<BinaryCrossEntropyBackward0>)\n",
            "tensor(1.8793e-09, grad_fn=<BinaryCrossEntropyBackward0>)\n",
            "tensor(1.1892e-20, grad_fn=<BinaryCrossEntropyBackward0>)\n",
            "tensor(1.0461e-24, grad_fn=<BinaryCrossEntropyBackward0>)\n",
            "tensor(5.3674e-10, grad_fn=<BinaryCrossEntropyBackward0>)\n",
            "tensor(1.4029e-18, grad_fn=<BinaryCrossEntropyBackward0>)\n",
            "tensor(8.5408e-19, grad_fn=<BinaryCrossEntropyBackward0>)\n",
            "tensor(1.6362e-14, grad_fn=<BinaryCrossEntropyBackward0>)\n",
            "tensor(1.0660e-18, grad_fn=<BinaryCrossEntropyBackward0>)\n",
            "tensor(6.0165e-19, grad_fn=<BinaryCrossEntropyBackward0>)\n",
            "tensor(5.7547e-05, grad_fn=<BinaryCrossEntropyBackward0>)\n",
            "tensor(4.1319e-09, grad_fn=<BinaryCrossEntropyBackward0>)\n",
            "tensor(5.6406e-09, grad_fn=<BinaryCrossEntropyBackward0>)\n",
            "tensor(4.9453e-14, grad_fn=<BinaryCrossEntropyBackward0>)\n",
            "tensor(2.6066e-19, grad_fn=<BinaryCrossEntropyBackward0>)\n",
            "tensor(5.6163e-16, grad_fn=<BinaryCrossEntropyBackward0>)\n",
            "tensor(5.0721e-18, grad_fn=<BinaryCrossEntropyBackward0>)\n",
            "tensor(1.1545e-09, grad_fn=<BinaryCrossEntropyBackward0>)\n",
            "tensor(2.7489e-24, grad_fn=<BinaryCrossEntropyBackward0>)\n",
            "tensor(1.4684e-10, grad_fn=<BinaryCrossEntropyBackward0>)\n",
            "tensor(1.1326e-14, grad_fn=<BinaryCrossEntropyBackward0>)\n",
            "tensor(3.7347e-16, grad_fn=<BinaryCrossEntropyBackward0>)\n",
            "tensor(8.7947e-23, grad_fn=<BinaryCrossEntropyBackward0>)\n",
            "tensor(7.4723e-11, grad_fn=<BinaryCrossEntropyBackward0>)\n",
            "tensor(5.7547e-05, grad_fn=<BinaryCrossEntropyBackward0>)\n",
            "tensor(1.8610e-14, grad_fn=<BinaryCrossEntropyBackward0>)\n",
            "tensor(7.0416e-12, grad_fn=<BinaryCrossEntropyBackward0>)\n",
            "tensor(3.4329e-16, grad_fn=<BinaryCrossEntropyBackward0>)\n",
            "tensor(4.4227e-13, grad_fn=<BinaryCrossEntropyBackward0>)\n",
            "tensor(2.6278e-17, grad_fn=<BinaryCrossEntropyBackward0>)\n",
            "tensor(2.0876e-09, grad_fn=<BinaryCrossEntropyBackward0>)\n",
            "tensor(9.0336e-10, grad_fn=<BinaryCrossEntropyBackward0>)\n",
            "tensor(1.5431e-13, grad_fn=<BinaryCrossEntropyBackward0>)\n",
            "tensor(1.6695e-09, grad_fn=<BinaryCrossEntropyBackward0>)\n",
            "tensor(6.4447e-17, grad_fn=<BinaryCrossEntropyBackward0>)\n",
            "tensor(5.7546e-05, grad_fn=<BinaryCrossEntropyBackward0>)\n",
            "tensor(2.4998e-10, grad_fn=<BinaryCrossEntropyBackward0>)\n",
            "tensor(9.5998e-19, grad_fn=<BinaryCrossEntropyBackward0>)\n",
            "tensor(4.4825e-16, grad_fn=<BinaryCrossEntropyBackward0>)\n",
            "tensor(7.3794e-11, grad_fn=<BinaryCrossEntropyBackward0>)\n",
            "tensor(9.4289e-13, grad_fn=<BinaryCrossEntropyBackward0>)\n",
            "tensor(1.2021e-12, grad_fn=<BinaryCrossEntropyBackward0>)\n",
            "tensor(2.0277e-16, grad_fn=<BinaryCrossEntropyBackward0>)\n",
            "tensor(1.0960e-13, grad_fn=<BinaryCrossEntropyBackward0>)\n",
            "tensor(3.4643e-18, grad_fn=<BinaryCrossEntropyBackward0>)\n",
            "tensor(1.6040e-06, grad_fn=<BinaryCrossEntropyBackward0>)\n",
            "tensor(5.7546e-05, grad_fn=<BinaryCrossEntropyBackward0>)\n",
            "tensor(1.8771e-17, grad_fn=<BinaryCrossEntropyBackward0>)\n",
            "tensor(5.5802e-10, grad_fn=<BinaryCrossEntropyBackward0>)\n",
            "tensor(1.6079e-24, grad_fn=<BinaryCrossEntropyBackward0>)\n",
            "tensor(5.1803e-08, grad_fn=<BinaryCrossEntropyBackward0>)\n",
            "tensor(4.1793e-16, grad_fn=<BinaryCrossEntropyBackward0>)\n",
            "tensor(1.2194e-12, grad_fn=<BinaryCrossEntropyBackward0>)\n",
            "tensor(2.0098e-15, grad_fn=<BinaryCrossEntropyBackward0>)\n",
            "tensor(5.3788e-23, grad_fn=<BinaryCrossEntropyBackward0>)\n",
            "tensor(9.4129e-13, grad_fn=<BinaryCrossEntropyBackward0>)\n",
            "tensor(1.1566e-19, grad_fn=<BinaryCrossEntropyBackward0>)\n",
            "tensor(3.8353e-13, grad_fn=<BinaryCrossEntropyBackward0>)\n",
            "tensor(7.4277e-20, grad_fn=<BinaryCrossEntropyBackward0>)\n",
            "tensor(3.0574e-09, grad_fn=<BinaryCrossEntropyBackward0>)\n",
            "tensor(1.2526e-19, grad_fn=<BinaryCrossEntropyBackward0>)\n",
            "tensor(4.5455e-09, grad_fn=<BinaryCrossEntropyBackward0>)\n",
            "tensor(5.5681e-22, grad_fn=<BinaryCrossEntropyBackward0>)\n",
            "tensor(4.5857e-11, grad_fn=<BinaryCrossEntropyBackward0>)\n",
            "tensor(1.6104e-07, grad_fn=<BinaryCrossEntropyBackward0>)\n",
            "tensor(4.2291e-13, grad_fn=<BinaryCrossEntropyBackward0>)\n",
            "tensor(7.7919e-12, grad_fn=<BinaryCrossEntropyBackward0>)\n",
            "tensor(2.9861e-16, grad_fn=<BinaryCrossEntropyBackward0>)\n",
            "tensor(1.3299e-13, grad_fn=<BinaryCrossEntropyBackward0>)\n",
            "tensor(1.0577e-16, grad_fn=<BinaryCrossEntropyBackward0>)\n",
            "tensor(8.8603e-09, grad_fn=<BinaryCrossEntropyBackward0>)\n",
            "tensor(2.9910e-11, grad_fn=<BinaryCrossEntropyBackward0>)\n",
            "tensor(1.0725e-12, grad_fn=<BinaryCrossEntropyBackward0>)\n",
            "tensor(5.7546e-05, grad_fn=<BinaryCrossEntropyBackward0>)\n",
            "tensor(5.7545e-05, grad_fn=<BinaryCrossEntropyBackward0>)\n",
            "tensor(3.1051e-10, grad_fn=<BinaryCrossEntropyBackward0>)\n",
            "tensor(6.8710e-12, grad_fn=<BinaryCrossEntropyBackward0>)\n",
            "tensor(2.7524e-17, grad_fn=<BinaryCrossEntropyBackward0>)\n",
            "tensor(1.4315e-19, grad_fn=<BinaryCrossEntropyBackward0>)\n",
            "tensor(4.0057e-12, grad_fn=<BinaryCrossEntropyBackward0>)\n",
            "tensor(4.6692e-14, grad_fn=<BinaryCrossEntropyBackward0>)\n",
            "tensor(4.5452e-17, grad_fn=<BinaryCrossEntropyBackward0>)\n",
            "tensor(8.3750e-14, grad_fn=<BinaryCrossEntropyBackward0>)\n",
            "tensor(1.2072e-10, grad_fn=<BinaryCrossEntropyBackward0>)\n",
            "tensor(6.8219e-14, grad_fn=<BinaryCrossEntropyBackward0>)\n",
            "tensor(1.0687e-07, grad_fn=<BinaryCrossEntropyBackward0>)\n",
            "tensor(1.4897e-21, grad_fn=<BinaryCrossEntropyBackward0>)\n",
            "tensor(3.1144e-11, grad_fn=<BinaryCrossEntropyBackward0>)\n",
            "tensor(3.0253e-12, grad_fn=<BinaryCrossEntropyBackward0>)\n",
            "tensor(1.4317e-11, grad_fn=<BinaryCrossEntropyBackward0>)\n",
            "tensor(5.7545e-05, grad_fn=<BinaryCrossEntropyBackward0>)\n",
            "tensor(7.0333e-15, grad_fn=<BinaryCrossEntropyBackward0>)\n",
            "tensor(1.9788e-05, grad_fn=<BinaryCrossEntropyBackward0>)\n",
            "tensor(4.1626e-20, grad_fn=<BinaryCrossEntropyBackward0>)\n",
            "tensor(3.4846e-14, grad_fn=<BinaryCrossEntropyBackward0>)\n",
            "tensor(3.2620e-06, grad_fn=<BinaryCrossEntropyBackward0>)\n",
            "tensor(1.8300e-09, grad_fn=<BinaryCrossEntropyBackward0>)\n",
            "tensor(2.6758e-14, grad_fn=<BinaryCrossEntropyBackward0>)\n",
            "tensor(6.9324e-08, grad_fn=<BinaryCrossEntropyBackward0>)\n",
            "tensor(1.1252e-17, grad_fn=<BinaryCrossEntropyBackward0>)\n",
            "tensor(2.4378e-19, grad_fn=<BinaryCrossEntropyBackward0>)\n",
            "tensor(5.7545e-05, grad_fn=<BinaryCrossEntropyBackward0>)\n",
            "tensor(1.7398e-06, grad_fn=<BinaryCrossEntropyBackward0>)\n",
            "tensor(2.7220e-08, grad_fn=<BinaryCrossEntropyBackward0>)\n",
            "tensor(1.8078e-17, grad_fn=<BinaryCrossEntropyBackward0>)\n",
            "tensor(3.6227e-11, grad_fn=<BinaryCrossEntropyBackward0>)\n",
            "tensor(1.0438e-17, grad_fn=<BinaryCrossEntropyBackward0>)\n",
            "tensor(5.9991e-08, grad_fn=<BinaryCrossEntropyBackward0>)\n",
            "tensor(2.8599e-11, grad_fn=<BinaryCrossEntropyBackward0>)\n",
            "tensor(7.5299e-19, grad_fn=<BinaryCrossEntropyBackward0>)\n",
            "tensor(7.8080e-06, grad_fn=<BinaryCrossEntropyBackward0>)\n",
            "tensor(5.0336e-12, grad_fn=<BinaryCrossEntropyBackward0>)\n",
            "tensor(5.2414e-14, grad_fn=<BinaryCrossEntropyBackward0>)\n",
            "tensor(7.0028e-09, grad_fn=<BinaryCrossEntropyBackward0>)\n",
            "tensor(5.7544e-05, grad_fn=<BinaryCrossEntropyBackward0>)\n",
            "tensor(2.1199e-11, grad_fn=<BinaryCrossEntropyBackward0>)\n",
            "tensor(1.6436e-19, grad_fn=<BinaryCrossEntropyBackward0>)\n",
            "tensor(1.9749e-28, grad_fn=<BinaryCrossEntropyBackward0>)\n",
            "tensor(9.6496e-18, grad_fn=<BinaryCrossEntropyBackward0>)\n",
            "tensor(2.1815e-11, grad_fn=<BinaryCrossEntropyBackward0>)\n",
            "tensor(5.1062e-17, grad_fn=<BinaryCrossEntropyBackward0>)\n",
            "tensor(5.9343e-05, grad_fn=<BinaryCrossEntropyBackward0>)\n",
            "tensor(3.9256e-07, grad_fn=<BinaryCrossEntropyBackward0>)\n",
            "tensor(1.4037e-15, grad_fn=<BinaryCrossEntropyBackward0>)\n",
            "tensor(1.6845e-16, grad_fn=<BinaryCrossEntropyBackward0>)\n",
            "tensor(5.2626e-09, grad_fn=<BinaryCrossEntropyBackward0>)\n",
            "tensor(1.7132e-18, grad_fn=<BinaryCrossEntropyBackward0>)\n",
            "tensor(8.0775e-23, grad_fn=<BinaryCrossEntropyBackward0>)\n",
            "tensor(1.0368e-21, grad_fn=<BinaryCrossEntropyBackward0>)\n",
            "tensor(1.0751e-24, grad_fn=<BinaryCrossEntropyBackward0>)\n",
            "tensor(1.6569e-16, grad_fn=<BinaryCrossEntropyBackward0>)\n",
            "tensor(1.5069e-20, grad_fn=<BinaryCrossEntropyBackward0>)\n",
            "tensor(5.9702e-18, grad_fn=<BinaryCrossEntropyBackward0>)\n",
            "tensor(1.9437e-09, grad_fn=<BinaryCrossEntropyBackward0>)\n",
            "tensor(1.2979e-14, grad_fn=<BinaryCrossEntropyBackward0>)\n",
            "tensor(1.7626e-13, grad_fn=<BinaryCrossEntropyBackward0>)\n",
            "tensor(1.0096e-17, grad_fn=<BinaryCrossEntropyBackward0>)\n",
            "tensor(1.4572e-07, grad_fn=<BinaryCrossEntropyBackward0>)\n",
            "tensor(5.5245e-14, grad_fn=<BinaryCrossEntropyBackward0>)\n",
            "tensor(1.1233e-17, grad_fn=<BinaryCrossEntropyBackward0>)\n",
            "tensor(2.0962e-10, grad_fn=<BinaryCrossEntropyBackward0>)\n",
            "tensor(2.7851e-10, grad_fn=<BinaryCrossEntropyBackward0>)\n",
            "tensor(4.4149e-08, grad_fn=<BinaryCrossEntropyBackward0>)\n",
            "tensor(3.0607e-14, grad_fn=<BinaryCrossEntropyBackward0>)\n",
            "tensor(1.3080e-12, grad_fn=<BinaryCrossEntropyBackward0>)\n",
            "tensor(1.2659e-17, grad_fn=<BinaryCrossEntropyBackward0>)\n",
            "tensor(1.9973e-06, grad_fn=<BinaryCrossEntropyBackward0>)\n",
            "tensor(2.8925e-20, grad_fn=<BinaryCrossEntropyBackward0>)\n",
            "tensor(1.2142e-09, grad_fn=<BinaryCrossEntropyBackward0>)\n",
            "tensor(2.6195e-10, grad_fn=<BinaryCrossEntropyBackward0>)\n",
            "tensor(2.0987e-08, grad_fn=<BinaryCrossEntropyBackward0>)\n",
            "tensor(1.7962e-07, grad_fn=<BinaryCrossEntropyBackward0>)\n",
            "tensor(1.0488e-20, grad_fn=<BinaryCrossEntropyBackward0>)\n",
            "tensor(5.8854e-12, grad_fn=<BinaryCrossEntropyBackward0>)\n",
            "tensor(6.2156e-23, grad_fn=<BinaryCrossEntropyBackward0>)\n",
            "tensor(3.1751e-06, grad_fn=<BinaryCrossEntropyBackward0>)\n",
            "tensor(1.3026e-20, grad_fn=<BinaryCrossEntropyBackward0>)\n",
            "tensor(2.0739e-20, grad_fn=<BinaryCrossEntropyBackward0>)\n",
            "tensor(1.3768e-11, grad_fn=<BinaryCrossEntropyBackward0>)\n",
            "tensor(9.1668e-10, grad_fn=<BinaryCrossEntropyBackward0>)\n",
            "tensor(2.9499e-11, grad_fn=<BinaryCrossEntropyBackward0>)\n",
            "tensor(2.0072e-08, grad_fn=<BinaryCrossEntropyBackward0>)\n",
            "tensor(4.8564e-08, grad_fn=<BinaryCrossEntropyBackward0>)\n",
            "tensor(1.1237e-06, grad_fn=<BinaryCrossEntropyBackward0>)\n",
            "tensor(7.3699e-14, grad_fn=<BinaryCrossEntropyBackward0>)\n",
            "tensor(1.0419e-07, grad_fn=<BinaryCrossEntropyBackward0>)\n",
            "tensor(1.5533e-10, grad_fn=<BinaryCrossEntropyBackward0>)\n",
            "tensor(1.0729e-13, grad_fn=<BinaryCrossEntropyBackward0>)\n",
            "tensor(5.2379e-08, grad_fn=<BinaryCrossEntropyBackward0>)\n",
            "tensor(1.4818e-09, grad_fn=<BinaryCrossEntropyBackward0>)\n",
            "tensor(4.1548e-18, grad_fn=<BinaryCrossEntropyBackward0>)\n",
            "tensor(1.1669e-08, grad_fn=<BinaryCrossEntropyBackward0>)\n",
            "tensor(2.9858e-21, grad_fn=<BinaryCrossEntropyBackward0>)\n",
            "tensor(6.2985e-20, grad_fn=<BinaryCrossEntropyBackward0>)\n",
            "tensor(2.9058e-07, grad_fn=<BinaryCrossEntropyBackward0>)\n",
            "tensor(1.4791e-06, grad_fn=<BinaryCrossEntropyBackward0>)\n",
            "tensor(6.9460e-06, grad_fn=<BinaryCrossEntropyBackward0>)\n",
            "tensor(5.7563e-05, grad_fn=<BinaryCrossEntropyBackward0>)\n",
            "tensor(2.0626e-12, grad_fn=<BinaryCrossEntropyBackward0>)\n",
            "tensor(3.9897e-15, grad_fn=<BinaryCrossEntropyBackward0>)\n",
            "tensor(4.2112e-10, grad_fn=<BinaryCrossEntropyBackward0>)\n",
            "tensor(2.3110e-16, grad_fn=<BinaryCrossEntropyBackward0>)\n",
            "tensor(8.6749e-15, grad_fn=<BinaryCrossEntropyBackward0>)\n",
            "tensor(2.1810e-07, grad_fn=<BinaryCrossEntropyBackward0>)\n",
            "tensor(2.9830e-16, grad_fn=<BinaryCrossEntropyBackward0>)\n",
            "tensor(1.5780e-21, grad_fn=<BinaryCrossEntropyBackward0>)\n",
            "tensor(7.6752e-17, grad_fn=<BinaryCrossEntropyBackward0>)\n",
            "tensor(2.0820e-11, grad_fn=<BinaryCrossEntropyBackward0>)\n",
            "tensor(5.6288e-15, grad_fn=<BinaryCrossEntropyBackward0>)\n",
            "tensor(1.3040e-06, grad_fn=<BinaryCrossEntropyBackward0>)\n",
            "tensor(7.9002e-09, grad_fn=<BinaryCrossEntropyBackward0>)\n",
            "tensor(2.3709e-06, grad_fn=<BinaryCrossEntropyBackward0>)\n",
            "tensor(1.0418e-13, grad_fn=<BinaryCrossEntropyBackward0>)\n"
          ]
        }
      ]
    },
    {
      "cell_type": "code",
      "source": [
        "y_pred = model(final_train_data[0])\n",
        "y_pred.shape == train_labels[0].shape"
      ],
      "metadata": {
        "colab": {
          "base_uri": "https://localhost:8080/"
        },
        "id": "nCrbQsf6QCL8",
        "outputId": "02b1bbda-1a69-49d0-8c51-6e74363419e5"
      },
      "execution_count": 38,
      "outputs": [
        {
          "output_type": "execute_result",
          "data": {
            "text/plain": [
              "True"
            ]
          },
          "metadata": {},
          "execution_count": 38
        }
      ]
    },
    {
      "cell_type": "markdown",
      "source": [
        "## **Checking the Results**\n",
        "Now that we have used the training set to train the network, we shall use the test set to check how the neural network performs with new inputs."
      ],
      "metadata": {
        "id": "uT_u2Q_EJ4ki"
      }
    },
    {
      "cell_type": "code",
      "source": [
        "# Change values of index\n",
        "# <START>\n",
        "index = 4 #0 to 99\n",
        "# <END>\n",
        "\n",
        "plt.imshow(test_data[index].int())\n",
        "print (f'According to the neural network, index = {index} is {\"a pizza\" if model(final_test_data[index]) > 0.5 else \"not a pizza\"}' )"
      ],
      "metadata": {
        "id": "Ykt2FcjfHW0S",
        "colab": {
          "base_uri": "https://localhost:8080/",
          "height": 449
        },
        "outputId": "60c83ed8-3a82-411e-c5d2-23107c8e4fe6"
      },
      "execution_count": 39,
      "outputs": [
        {
          "output_type": "stream",
          "name": "stdout",
          "text": [
            "According to the neural network, index = 4 is a pizza\n"
          ]
        },
        {
          "output_type": "display_data",
          "data": {
            "text/plain": [
              "<Figure size 640x480 with 1 Axes>"
            ],
            "image/png": "[encoded data removed]"
          },
          "metadata": {}
        }
      ]
    },
    {
      "cell_type": "markdown",
      "source": [
        "To quantize how accurately the neural network is able to classify images, we have defined a helper `predict` function that takes a dataset and returns the fraction of times the neural network correctly classified the image.  \n",
        "\n",
        "Complete the function such that it prints the correct accuracy of its predictions."
      ],
      "metadata": {
        "id": "3fQcWl1rHcuL"
      }
    },
    {
      "cell_type": "code",
      "source": [
        "def predict(model, data, labels):\n",
        "\n",
        "    probabilities = model(data)\n",
        "\n",
        "    # <START>\n",
        "\n",
        "    # generate the predictions tensor using the probabilities variable, which indicates the prediction made by the model for the given data using 0 and 1\n",
        "\n",
        "    predictions = torch.where(probabilities > 0.5, torch.ones_like(probabilities), torch.zeros_like(probabilities))\n",
        "\n",
        "    # <END>\n",
        "\n",
        "    print(\"Accuracy: \"  + str(torch.sum((predictions == labels)).item()/predictions.shape[0]))"
      ],
      "metadata": {
        "id": "RFwT6ARBs7gT"
      },
      "execution_count": 41,
      "outputs": []
    },
    {
      "cell_type": "markdown",
      "source": [
        "**Run** the cell below to find out the accuracy of your model for the training and test datasets."
      ],
      "metadata": {
        "id": "7PVdX70uLUY9"
      }
    },
    {
      "cell_type": "code",
      "source": [
        "predict(model, final_train_data, train_labels)\n",
        "predict(model,final_test_data,test_labels)\n",
        "print(\"Done!\")"
      ],
      "metadata": {
        "id": "V_iNzulpYpHH",
        "colab": {
          "base_uri": "https://localhost:8080/"
        },
        "outputId": "7eb93dab-4992-499a-b685-cb6f7a859575"
      },
      "execution_count": 42,
      "outputs": [
        {
          "output_type": "stream",
          "name": "stdout",
          "text": [
            "Accuracy: 1.0\n",
            "Accuracy: 0.76\n",
            "Done!\n"
          ]
        }
      ]
    },
    {
      "cell_type": "markdown",
      "source": [
        "## **Extra Content (Optional)**\n",
        "##### **These are extra exercises you can try after submitting the assignment, for you to try on your own. Feel free to approach us with any doubts, but DO NOT make these changes to the notebook before you submit**\n",
        "- Try varying things like the number and size of the hidden layers, and seeing how that affects the accuracy of the network.\n",
        "- Along with `pizza` and `not_pizza`, you should see another folder `other_dishes` in the dataset. Try using it in place of `not_pizza`. What changes do you see? Why do you think this happens?"
      ],
      "metadata": {
        "id": "DYae7InELIF6"
      }
    }
  ]
}